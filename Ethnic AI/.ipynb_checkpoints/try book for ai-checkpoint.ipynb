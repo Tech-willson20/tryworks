{
 "cells": [
  {
   "cell_type": "code",
   "execution_count": 7,
   "id": "d906526a",
   "metadata": {},
   "outputs": [
    {
     "name": "stdout",
     "output_type": "stream",
     "text": [
      "ORANGE\n",
      "WIlliam\n"
     ]
    },
    {
     "data": {
      "text/plain": [
       "294320"
      ]
     },
     "execution_count": 7,
     "metadata": {},
     "output_type": "execute_result"
    }
   ],
   "source": [
    "my_fruit='ORANGE'\n",
    "print(my_fruit)\n",
    "\n",
    "myName=\"WIlliam\"\n",
    "print(myName)\n",
    "mynumber=1228\n",
    "mynuuuu=293092\n",
    "mynumber+mynuuuu"
   ]
  },
  {
   "cell_type": "code",
   "execution_count": 58,
   "id": "1b1de705",
   "metadata": {},
   "outputs": [
    {
     "name": "stdout",
     "output_type": "stream",
     "text": [
      "4\n",
      "['banana', 'Apple', 'Pineapple', 'GRape']\n",
      "banana\n"
     ]
    }
   ],
   "source": [
    "friut=[\"banana\",\"Apple\",\"Pineapple\"]\n",
    "friut.append(\"GRape\")\n",
    "\n",
    "print(len(friut))\n",
    "print(friut)\n",
    "print(friut[0])"
   ]
  },
  {
   "cell_type": "code",
   "execution_count": 1,
   "id": "62c98962",
   "metadata": {},
   "outputs": [
    {
     "ename": "NameError",
     "evalue": "name 'my_name' is not defined",
     "output_type": "error",
     "traceback": [
      "\u001b[1;31m---------------------------------------------------------------------------\u001b[0m",
      "\u001b[1;31mNameError\u001b[0m                                 Traceback (most recent call last)",
      "Cell \u001b[1;32mIn[1], line 1\u001b[0m\n\u001b[1;32m----> 1\u001b[0m \u001b[43mmy_name\u001b[49m(\u001b[38;5;124m\"\u001b[39m\u001b[38;5;124mWIlliam Afoakwa \u001b[39m\u001b[38;5;124m\"\u001b[39m)\n\u001b[0;32m      2\u001b[0m \u001b[38;5;28mprint\u001b[39m(my_name)\n",
      "\u001b[1;31mNameError\u001b[0m: name 'my_name' is not defined"
     ]
    }
   ],
   "source": [
    "my_name=\"WIlliam Afoakwa \"\n",
    "print(my_name)\n"
   ]
  }
 ],
 "metadata": {
  "kernelspec": {
   "display_name": "Python 3 (ipykernel)",
   "language": "python",
   "name": "python3"
  },
  "language_info": {
   "codemirror_mode": {
    "name": "ipython",
    "version": 3
   },
   "file_extension": ".py",
   "mimetype": "text/x-python",
   "name": "python",
   "nbconvert_exporter": "python",
   "pygments_lexer": "ipython3",
   "version": "3.9.1"
  }
 },
 "nbformat": 4,
 "nbformat_minor": 5
}
